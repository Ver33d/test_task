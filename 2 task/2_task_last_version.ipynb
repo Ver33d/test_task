{
 "cells": [
  {
   "cell_type": "code",
   "execution_count": 13,
   "metadata": {},
   "outputs": [],
   "source": [
    "from clickhouse_driver import Client\n",
    "import pandas as pd\n",
    "import json\n",
    "\n",
    "client = Client(host='localhost', port=9000, user='default', password='pivanet')\n",
    "\n",
    "query_2 = 'SELECT parameters,timestamp, user, communication_number, communication_id, script_id, script_name, mrf, client_mrf, script_owner, current_script_owner, script_responsible, current_script_responsible, crm_departament from db_test.logg'\n",
    "\n",
    "result_2 = client.execute(query_2)\n",
    "\n",
    "df_all = pd.DataFrame(result_2, columns=['parameters','timestamp', 'user', 'communication_number', 'communication_id', 'script_id', 'script_name', 'mrf', 'client_mrf', 'script_owner', 'current_script_owner', 'script_responsible', 'current_script_responsible', 'crm_departament'])"
   ]
  },
  {
   "cell_type": "code",
   "execution_count": 14,
   "metadata": {},
   "outputs": [
    {
     "data": {
      "text/plain": [
       "Index(['parameters', 'timestamp', 'user', 'communication_number',\n",
       "       'communication_id', 'script_id', 'script_name', 'mrf', 'client_mrf',\n",
       "       'script_owner', 'current_script_owner', 'script_responsible',\n",
       "       'current_script_responsible', 'crm_departament'],\n",
       "      dtype='object')"
      ]
     },
     "execution_count": 14,
     "metadata": {},
     "output_type": "execute_result"
    }
   ],
   "source": [
    "df_all.columns"
   ]
  },
  {
   "cell_type": "code",
   "execution_count": null,
   "metadata": {},
   "outputs": [],
   "source": [
    "import pandas as pd\n",
    "import json\n",
    "import time\n",
    "\n",
    "# Функция для преобразования JSON строки в словарь и извлечения нужных полей\n",
    "def extract_fields(json_str):\n",
    "    try:\n",
    "        data_dict = json.loads(json_str)\n",
    "    except json.JSONDecodeError:\n",
    "        return {\n",
    "            'ACCOUNT_NUMBER': '',\n",
    "            'CALLER_ID': '',\n",
    "            'COMMUNICATION_THEME': '',\n",
    "            'COMMUNICATION_DETAIL': '',\n",
    "            'COMMUNICATION_RESULT': ''\n",
    "        }\n",
    "    \n",
    "    # Извлечение нужных полей\n",
    "    return {\n",
    "        'ACCOUNT_NUMBER': data_dict.get('ACCOUNT_NUMBER', ''),\n",
    "        'CALLER_ID': data_dict.get('CALLER_ID', ''),\n",
    "        'COMMUNICATION_THEME': data_dict.get('COMMUNICATION_THEME', ''),\n",
    "        'COMMUNICATION_DETAIL': data_dict.get('COMMUNICATION_DETAIL', ''),\n",
    "        'COMMUNICATION_RESULT': data_dict.get('COMMUNICATION_RESULT', '')\n",
    "    }\n",
    "\n",
    "start_time = time.time()\n",
    "\n",
    "# Применение функции к каждой строке в колонке 'parameters'\n",
    "extracted_data = df_all['parameters'].apply(extract_fields)\n",
    "\n",
    "\n",
    "# Преобразование списка словарей в DataFrame\n",
    "extracted_df = pd.DataFrame(extracted_data.tolist())\n",
    "print(\"pandas apply:\", time.time() - start_time)\n",
    "\n",
    "df_all = df_all.drop(columns=['parameters'])\n",
    "df_all = pd.concat([df_all, extracted_df], axis=1)\n",
    "print(df_all.head())\n"
   ]
  },
  {
   "cell_type": "code",
   "execution_count": null,
   "metadata": {},
   "outputs": [],
   "source": [
    "import pandas as pd\n",
    "import json\n",
    "import numpy as np\n",
    "import time\n",
    "\n",
    "\n",
    "# Функция для преобразования JSON строки в словарь и извлечения нужных полей\n",
    "def extract_fields(json_str):\n",
    "    try:\n",
    "        data_dict = json.loads(json_str)\n",
    "    except json.JSONDecodeError:\n",
    "        return {\n",
    "            'ACCOUNT_NUMBER': '',\n",
    "            'CALLER_ID': '',\n",
    "            'COMMUNICATION_THEME': '',\n",
    "            'COMMUNICATION_DETAIL': '',\n",
    "            'COMMUNICATION_RESULT': ''\n",
    "        }\n",
    "    \n",
    "    # Извлечение нужных полей\n",
    "    return {\n",
    "        'ACCOUNT_NUMBER': data_dict.get('ACCOUNT_NUMBER', ''),\n",
    "        'CALLER_ID': data_dict.get('CALLER_ID', ''),\n",
    "        'COMMUNICATION_THEME': data_dict.get('COMMUNICATION_THEME', ''),\n",
    "        'COMMUNICATION_DETAIL': data_dict.get('COMMUNICATION_DETAIL', ''),\n",
    "        'COMMUNICATION_RESULT': data_dict.get('COMMUNICATION_RESULT', '')\n",
    "    }\n",
    "\n",
    "# Векторизация функции extract_fields\n",
    "vectorized_extract_fields = np.vectorize(extract_fields)\n",
    "start_time = time.time()\n",
    "\n",
    "# Применение векторизованной функции к массиву, полученному из столбца 'parameters'\n",
    "extracted_data = vectorized_extract_fields(df_all['parameters'].values)\n",
    "\n",
    "# Преобразование списка словарей в DataFrame\n",
    "extracted_df = pd.DataFrame(list(extracted_data))\n",
    "print(\"Vectorize time:\", time.time() - start_time)\n",
    "\n",
    "df_all = df_all.drop(columns=['parameters'])\n",
    "df_all = pd.concat([df_all, extracted_df], axis=1)\n",
    "\n",
    "\n",
    "print(df_all.head())\n"
   ]
  },
  {
   "cell_type": "code",
   "execution_count": null,
   "metadata": {},
   "outputs": [],
   "source": [
    "df_all.columns"
   ]
  },
  {
   "cell_type": "code",
   "execution_count": 18,
   "metadata": {},
   "outputs": [],
   "source": [
    "df_all.to_csv(\"dataset_newww.csv\")"
   ]
  },
  {
   "cell_type": "markdown",
   "metadata": {},
   "source": [
    "# Загружаем данные в кликхауз"
   ]
  },
  {
   "cell_type": "code",
   "execution_count": null,
   "metadata": {},
   "outputs": [],
   "source": [
    "df_all"
   ]
  },
  {
   "cell_type": "code",
   "execution_count": 51,
   "metadata": {},
   "outputs": [
    {
     "name": "stdout",
     "output_type": "stream",
     "text": [
      "Table dataset_newww created successfully\n",
      "Data uploaded successfully to dataset_newww\n"
     ]
    }
   ],
   "source": [
    "from clickhouse_driver import Client\n",
    "import pandas as pd\n",
    "\n",
    "def determine_clickhouse_type(series):\n",
    "    if pd.api.types.is_integer_dtype(series):\n",
    "        return 'Int64'\n",
    "    elif pd.api.types.is_float_dtype(series):\n",
    "        return 'Float64'\n",
    "    elif pd.api.types.is_datetime64_dtype(series):\n",
    "        return 'Date'\n",
    "    elif pd.api.types.is_bool_dtype(series):\n",
    "        return 'UInt8'\n",
    "    elif pd.api.types.is_object_dtype(series):\n",
    "        if series.apply(lambda x: isinstance(x, str)).all():\n",
    "            return 'String'\n",
    "        else:\n",
    "            return 'String'\n",
    "    else:\n",
    "        return 'String'\n",
    "\n",
    "def create_table_query(table_name, columns_types, primary_key):\n",
    "    columns_definition = ', '.join([f'{col} {typ}' for col, typ in columns_types.items()])\n",
    "    query = f'CREATE TABLE IF NOT EXISTS db_test.{table_name} ({columns_definition}) ENGINE = MergeTree() ORDER BY ({primary_key});'\n",
    "    return query\n",
    "\n",
    "clickhouse_types = {col: determine_clickhouse_type(df_all[col]) for col in df_all.columns}\n",
    "\n",
    "table_name = 'dataset_newww'\n",
    "primary_key = df_all.columns[0]  \n",
    "create_query = create_table_query(table_name, clickhouse_types, primary_key)\n",
    "\n",
    "client.execute(create_query)\n",
    "print(f\"Table {table_name} created successfully\")\n",
    "\n",
    "insert_query = f'INSERT INTO db_test.{table_name} VALUES'\n",
    "client.execute(insert_query, df_all.to_dict('records'))\n",
    "print(f\"Data uploaded successfully to {table_name}\")\n"
   ]
  }
 ],
 "metadata": {
  "kernelspec": {
   "display_name": "Python 3",
   "language": "python",
   "name": "python3"
  },
  "language_info": {
   "codemirror_mode": {
    "name": "ipython",
    "version": 3
   },
   "file_extension": ".py",
   "mimetype": "text/x-python",
   "name": "python",
   "nbconvert_exporter": "python",
   "pygments_lexer": "ipython3",
   "version": "3.9.7"
  }
 },
 "nbformat": 4,
 "nbformat_minor": 2
}
