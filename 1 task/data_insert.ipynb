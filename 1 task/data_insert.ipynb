{
 "cells": [
  {
   "cell_type": "markdown",
   "metadata": {},
   "source": [
    "### №1. Начало работы с БД ClickHouse\n",
    "В этом ноутбуке я создам базу данных ClickHouse в Docker контейнере. После этого нужно будет подключиться к БД, создать таблицу, занести тестовые данные из файла sm_data.csv в эту таблицу. Таким образом, у нас будет табличка с данными, которую можно будет обрабатывать в дальнейшем"
   ]
  },
  {
   "cell_type": "code",
   "execution_count": 2,
   "metadata": {},
   "outputs": [
    {
     "data": {
      "text/plain": [
       "[]"
      ]
     },
     "execution_count": 2,
     "metadata": {},
     "output_type": "execute_result"
    }
   ],
   "source": [
    "\"Создаем базу данных в ClickHouse\"\n",
    "try:\n",
    "    import re\n",
    "    from clickhouse_driver import Client\n",
    "\n",
    "    query_db = '''\n",
    "    CREATE DATABASE IF NOT EXISTS db_test ENGINE = Memory\n",
    "    '''\n",
    "\n",
    "    client = Client(host='localhost', port=9000, user='default', password='pivanet')\n",
    "\n",
    "    client.execute(query_db)\n",
    "    print('База данных успешно создана')\n",
    "except Exception as e:\n",
    "    print(f'Что-то пошло не так: {e}')"
   ]
  },
  {
   "cell_type": "code",
   "execution_count": 4,
   "metadata": {},
   "outputs": [
    {
     "data": {
      "text/plain": [
       "[]"
      ]
     },
     "execution_count": 4,
     "metadata": {},
     "output_type": "execute_result"
    }
   ],
   "source": [
    "\"Создаем таблицу в БД\"\n",
    "\n",
    "from clickhouse_driver import Client\n",
    "\n",
    "try:\n",
    "# SQL query to create a table\n",
    "    query_create_table = '''\n",
    "    CREATE TABLE IF NOT EXISTS db_test.logss (\n",
    "        timestamp DateTime64(3),\n",
    "        level String,\n",
    "        sys String,\n",
    "        mrf String,\n",
    "        user String,\n",
    "        script_id String,\n",
    "        script_name String,\n",
    "        script_key String,\n",
    "        script_version String,\n",
    "        script_process String,\n",
    "        action String,\n",
    "        action_entity String,\n",
    "        action_id String,\n",
    "        action_data String,\n",
    "        message String,\n",
    "        script_step_id String,\n",
    "        script_step_name String,\n",
    "        current_script_name String,\n",
    "        current_script_key String,\n",
    "        current_script_version String,\n",
    "        block_type String,\n",
    "        parameters String,\n",
    "        timezone String,\n",
    "        communication_id String,\n",
    "        communication_number String,\n",
    "        integration_service_id String,\n",
    "        duration Float32,\n",
    "        client_mrf String,\n",
    "        session String,\n",
    "        script_owner String,\n",
    "        current_script_owner String,\n",
    "        script_responsible String,\n",
    "        current_script_responsible String,\n",
    "        crm_departament String\n",
    "    ) ENGINE = MergeTree()\n",
    "    ORDER BY timezone\n",
    "    '''\n",
    "    client = Client(host='localhost', port=9000, user='default', password='pivanet')\n",
    "\n",
    "    client.execute(query_create_table)\n",
    "    print('Таблица успешно создана')\n",
    "except Exception as e:\n",
    "    print(f'Что-то пошло не так: {e}')"
   ]
  },
  {
   "cell_type": "code",
   "execution_count": null,
   "metadata": {},
   "outputs": [],
   "source": [
    "\"Статичные переменные\"\n",
    "local_file_path = 'sm_data.csv'\n",
    "container_name = 'clickhouse-server_2'\n",
    "\n",
    "container_path = '/tmp/sm_data.csv'"
   ]
  },
  {
   "cell_type": "code",
   "execution_count": 5,
   "metadata": {},
   "outputs": [
    {
     "name": "stdout",
     "output_type": "stream",
     "text": [
      "Файл успешно скопирован.\n"
     ]
    }
   ],
   "source": [
    "\"Скопируем файл в окружение Docker\"\n",
    "import subprocess\n",
    "\n",
    "\n",
    "command = ['docker', 'cp', local_file_path, f'{container_name}:{container_path}']\n",
    "\n",
    "result = subprocess.run(command, capture_output=True, text=True)\n",
    "\n",
    "if result.returncode == 0:\n",
    "    print(\"Файл успешно скопирован.\")\n",
    "else:\n",
    "    print(\"Ошибка копирования файла:\", result.stderr)"
   ]
  },
  {
   "cell_type": "code",
   "execution_count": 7,
   "metadata": {},
   "outputs": [
    {
     "name": "stdout",
     "output_type": "stream",
     "text": [
      "Вывод команды:\n",
      "bitnami\n",
      "sm_data.csv\n",
      "\n"
     ]
    }
   ],
   "source": [
    "\"Проверим, что файл попал в окружение Docker\"\n",
    "\n",
    "command_to_run = 'ls /tmp'\n",
    "command = ['docker', 'exec', container_name] + command_to_run.split()\n",
    "result = subprocess.run(command, capture_output=True, text=True)\n",
    "if result.returncode == 0:\n",
    "    print(\"Вывод команды:\")\n",
    "    print(result.stdout)\n",
    "else:\n",
    "    print(\"Ошибка выполнения команды:\", result.stderr)"
   ]
  },
  {
   "cell_type": "code",
   "execution_count": 9,
   "metadata": {},
   "outputs": [
    {
     "name": "stdout",
     "output_type": "stream",
     "text": [
      "Команда выполнена успешно.\n"
     ]
    }
   ],
   "source": [
    "\"Загрузим файл в БД ClickHouse\"\n",
    "\n",
    "bash_command = f\"clickhouse-client --user default --password pivanet --query='INSERT INTO db_test.logss FORMAT CSV' < {container_path}\"\n",
    "command = ['docker', 'exec', '-i', container_name, 'bash', '-c', bash_command]\n",
    "result = subprocess.run(command, capture_output=True, text=True)\n",
    "if result.returncode == 0:\n",
    "    print(\"Команда выполнена успешно.\")\n",
    "else:\n",
    "    print(\"Ошибка выполнения команды:\", result.stderr)"
   ]
  }
 ],
 "metadata": {
  "kernelspec": {
   "display_name": "Python 3",
   "language": "python",
   "name": "python3"
  },
  "language_info": {
   "codemirror_mode": {
    "name": "ipython",
    "version": 3
   },
   "file_extension": ".py",
   "mimetype": "text/x-python",
   "name": "python",
   "nbconvert_exporter": "python",
   "pygments_lexer": "ipython3",
   "version": "3.11.4"
  }
 },
 "nbformat": 4,
 "nbformat_minor": 2
}
